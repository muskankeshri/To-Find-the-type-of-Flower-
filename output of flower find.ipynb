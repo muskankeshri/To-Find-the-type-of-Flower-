{
 "cells": [
  {
   "cell_type": "code",
   "execution_count": null,
   "id": "2ee6921c",
   "metadata": {},
   "outputs": [],
   "source": [
    "import pandas as pd"
   ]
  },
  {
   "cell_type": "code",
   "execution_count": null,
   "id": "fa897e2f",
   "metadata": {},
   "outputs": [],
   "source": [
    "m = pd.read_pickle('flower_type_predictor.pkl')"
   ]
  },
  {
   "cell_type": "code",
   "execution_count": 3,
   "id": "8d7465c3",
   "metadata": {},
   "outputs": [
    {
     "data": {
      "text/plain": [
       "LogisticRegression()"
      ]
     },
     "execution_count": 3,
     "metadata": {},
     "output_type": "execute_result"
    }
   ],
   "source": [
    "m"
   ]
  },
  {
   "cell_type": "code",
   "execution_count": null,
   "id": "1c8a1d31",
   "metadata": {},
   "outputs": [],
   "source": [
    "sepal_length = eval(input('enter the sepal_length :'))\n",
    "sepal_width = eval(input('enter the sepal_width  :'))\n",
    "petal_length = eval(input('enter the petal_length   :'))\n",
    "petal_width = eval(input('enter the petal_width    :'))\n",
    "\n",
    "query = pd.DataFrame({'sepal_length':[sepal_length],'sepal_width':[sepal_width],'petal_length':[petal_length],'petal_width':[petal_width]})"
   ]
  },
  {
   "cell_type": "code",
   "execution_count": null,
   "id": "df5f2e69",
   "metadata": {},
   "outputs": [],
   "source": [
    "query"
   ]
  },
  {
   "cell_type": "code",
   "execution_count": null,
   "id": "9c280383",
   "metadata": {},
   "outputs": [],
   "source": [
    "m.predict(query)"
   ]
  },
  {
   "cell_type": "code",
   "execution_count": null,
   "id": "f5dd28fb",
   "metadata": {},
   "outputs": [],
   "source": []
  },
  {
   "cell_type": "code",
   "execution_count": null,
   "id": "7ab4d4ac",
   "metadata": {},
   "outputs": [],
   "source": []
  }
 ],
 "metadata": {
  "kernelspec": {
   "display_name": "Python 3 (ipykernel)",
   "language": "python",
   "name": "python3"
  },
  "language_info": {
   "codemirror_mode": {
    "name": "ipython",
    "version": 3
   },
   "file_extension": ".py",
   "mimetype": "text/x-python",
   "name": "python",
   "nbconvert_exporter": "python",
   "pygments_lexer": "ipython3",
   "version": "3.9.12"
  }
 },
 "nbformat": 4,
 "nbformat_minor": 5
}
